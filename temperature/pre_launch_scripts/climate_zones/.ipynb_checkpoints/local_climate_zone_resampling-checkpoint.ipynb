{
 "cells": [
  {
   "cell_type": "code",
   "execution_count": 1,
   "id": "41462762-5af1-4511-9eb7-3d32ab56ecbb",
   "metadata": {
    "tags": []
   },
   "outputs": [
    {
     "name": "stderr",
     "output_type": "stream",
     "text": [
      "/ihme/homes/nhashmeh/miniconda3/envs/earth-analytics-python/lib/python3.8/site-packages/pyproj/__init__.py:89: UserWarning: pyproj unable to set database path.\n",
      "  _pyproj_global_context_initialize()\n"
     ]
    }
   ],
   "source": [
    "import numpy as np\n",
    "import pandas as pd\n",
    "import rasterio as reo\n",
    "from rasterio.enums import Resampling\n",
    "from rasterio.crs import CRS\n",
    "import sklearn\n",
    "# from osgeo import gdal\n",
    "import geopandas\n",
    "import matplotlib.pyplot as plt\n",
    "import rioxarray\n",
    "import re"
   ]
  },
  {
   "cell_type": "markdown",
   "id": "5379b289-a660-4729-a317-7f9fbd0c4b47",
   "metadata": {
    "tags": []
   },
   "source": [
    "## RASTERIO TESTING"
   ]
  },
  {
   "cell_type": "code",
   "execution_count": 2,
   "id": "7523837a-a15a-43c0-b631-912dd84761dd",
   "metadata": {
    "tags": []
   },
   "outputs": [],
   "source": [
    "path = \"/ihme/homes/nhashmeh/downscale_temperature/climate_zones/\"\n",
    "cz_raster = \"/ihme/homes/nhashmeh/downscale_temperature/climate_zones/lcz_filter_v2.tif\"\n",
    "reo_raster = \"/ihme/homes/nhashmeh/downscale_temperature/climate_zones/rasterio_test.tif\""
   ]
  },
  {
   "cell_type": "markdown",
   "id": "fef1a24e-1a42-4483-9e01-5fdc811cb855",
   "metadata": {},
   "source": [
    "# inspect data"
   ]
  },
  {
   "cell_type": "code",
   "execution_count": 4,
   "id": "afdb4559-7817-4b87-9b45-2f0815227145",
   "metadata": {
    "tags": []
   },
   "outputs": [
    {
     "name": "stderr",
     "output_type": "stream",
     "text": [
      "ERROR 1: PROJ: proj_identify: /ihme/homes/nhashmeh/miniconda3/share/proj/proj.db lacks DATABASE.LAYOUT.VERSION.MAJOR / DATABASE.LAYOUT.VERSION.MINOR metadata. It comes from another PROJ installation.\n"
     ]
    },
    {
     "data": {
      "text/plain": [
       "{'driver': 'GTiff',\n",
       " 'dtype': 'uint8',\n",
       " 'nodata': None,\n",
       " 'width': 38962,\n",
       " 'height': 15599,\n",
       " 'count': 1,\n",
       " 'crs': CRS.from_wkt('GEOGCS[\"WGS 84\",DATUM[\"World Geodetic System 1984\",SPHEROID[\"WGS 84\",6378137,298.257223563]],PRIMEM[\"Greenwich\",0],UNIT[\"degree\",0.0174532925199433,AUTHORITY[\"EPSG\",\"9122\"]],AXIS[\"Latitude\",NORTH],AXIS[\"Longitude\",EAST]]'),\n",
       " 'transform': Affine(0.008983152841195179, 0.0, -170.00077762791474,\n",
       "        0.0, -0.008983440781218295, 80.03809518448114)}"
      ]
     },
     "execution_count": 4,
     "metadata": {},
     "output_type": "execute_result"
    }
   ],
   "source": [
    "# load in data\n",
    "testing = reo.open(\"/ihme/homes/nhashmeh/downscale_temperature/climate_zones/lcz_resampled_mode.tif\")\n",
    "testing.meta"
   ]
  },
  {
   "cell_type": "code",
   "execution_count": 1,
   "id": "7df0c5ee-ab28-4354-acf0-c0f1141276dd",
   "metadata": {
    "tags": []
   },
   "outputs": [
    {
     "ename": "NameError",
     "evalue": "name 'testing' is not defined",
     "output_type": "error",
     "traceback": [
      "\u001b[0;31m---------------------------------------------------------------------------\u001b[0m",
      "\u001b[0;31mNameError\u001b[0m                                 Traceback (most recent call last)",
      "Cell \u001b[0;32mIn[1], line 1\u001b[0m\n\u001b[0;32m----> 1\u001b[0m array \u001b[38;5;241m=\u001b[39m \u001b[43mtesting\u001b[49m\u001b[38;5;241m.\u001b[39mread(\u001b[38;5;241m1\u001b[39m)\n\u001b[1;32m      2\u001b[0m np\u001b[38;5;241m.\u001b[39munique(array)\n",
      "\u001b[0;31mNameError\u001b[0m: name 'testing' is not defined"
     ]
    }
   ],
   "source": [
    "array = testing.read(1)\n",
    "np.unique(array)"
   ]
  },
  {
   "cell_type": "markdown",
   "id": "629846df-e9e6-41a6-9709-912d8f091c90",
   "metadata": {},
   "source": [
    "# resampling"
   ]
  },
  {
   "cell_type": "code",
   "execution_count": 3,
   "id": "ae1f607a-a066-4271-b4e4-d347878df9da",
   "metadata": {
    "tags": []
   },
   "outputs": [
    {
     "name": "stdout",
     "output_type": "stream",
     "text": [
      "Shape before resample: (155995, 389620)\n",
      "Shape after resample: (15599, 38962)\n",
      "Transform before resample:\n",
      " | 0.00, 0.00,-170.00|\n",
      "| 0.00,-0.00, 80.04|\n",
      "| 0.00, 0.00, 1.00| \n",
      "\n",
      "Transform after resample:\n",
      " | 0.01, 0.00,-170.00|\n",
      "| 0.00,-0.01, 80.04|\n",
      "| 0.00, 0.00, 1.00|\n",
      "(15599, 38962)\n"
     ]
    },
    {
     "name": "stderr",
     "output_type": "stream",
     "text": [
      "ERROR 1: PROJ: proj_create_from_name: /ihme/homes/nhashmeh/miniconda3/share/proj/proj.db lacks DATABASE.LAYOUT.VERSION.MAJOR / DATABASE.LAYOUT.VERSION.MINOR metadata. It comes from another PROJ installation.\n"
     ]
    }
   ],
   "source": [
    "# load in data\n",
    "og_data = reo.open(\"/ihme/homes/nhashmeh/downscale_temperature/climate_zones/lcz_filter_v2.tif\")\n",
    "\n",
    "# factor for rescaling (100m -> 1000m)\n",
    "downscale_factor = 1/10\n",
    "\n",
    "with reo.open(\"/ihme/homes/nhashmeh/downscale_temperature/climate_zones/lcz_filter_v2.tif\", crs='EPSG:4326') as dataset:\n",
    "\n",
    "    # resample data to target shape\n",
    "    data = dataset.read(\n",
    "        out_shape=(\n",
    "            dataset.count,\n",
    "            int(dataset.height * downscale_factor), # multiply height by downscale factor\n",
    "            int(dataset.width * downscale_factor) # multiply widrh by downscale factor\n",
    "        ),\n",
    "        resampling=Resampling.mode # resampling method\n",
    "    )\n",
    "\n",
    "    # scale image transform\n",
    "    new = dataset.transform * dataset.transform.scale(\n",
    "        (dataset.width / data.shape[-1]),\n",
    "        (dataset.height / data.shape[-2])\n",
    "    )\n",
    "\n",
    "print('Shape before resample:', og_data.shape)\n",
    "print('Shape after resample:', data.shape[1:])\n",
    "print('Transform before resample:\\n', dataset.transform, '\\n')\n",
    "print('Transform after resample:\\n', new)\n",
    "\n",
    "new_dataset = reo.open(\n",
    "    '/ihme/homes/nhashmeh/downscale_temperature/climate_zones/lcz_resampled_mode.tif',\n",
    "    'w',\n",
    "    driver='GTiff',\n",
    "    height=data.shape[1],\n",
    "    width=data.shape[2],\n",
    "    count=1,\n",
    "    dtype=data.dtype,\n",
    "    crs=dataset.crs,\n",
    "    # crs='EPSG:4326',\n",
    "    # crs=CRS.from_user_input('EPSG:4326'),\n",
    "    transform=new,\n",
    ")\n",
    "\n",
    "print(new_dataset.shape)\n",
    "\n",
    "new_dataset.write(data)\n",
    "new_dataset.close()"
   ]
  },
  {
   "cell_type": "code",
   "execution_count": null,
   "id": "bdfda352-135d-48cf-b9a6-e460cda59b0e",
   "metadata": {},
   "outputs": [],
   "source": []
  }
 ],
 "metadata": {
  "kernelspec": {
   "display_name": "earth-analytics-python",
   "language": "python",
   "name": "earth-analytics-python"
  },
  "language_info": {
   "codemirror_mode": {
    "name": "ipython",
    "version": 3
   },
   "file_extension": ".py",
   "mimetype": "text/x-python",
   "name": "python",
   "nbconvert_exporter": "python",
   "pygments_lexer": "ipython3",
   "version": "3.8.17"
  }
 },
 "nbformat": 4,
 "nbformat_minor": 5
}
