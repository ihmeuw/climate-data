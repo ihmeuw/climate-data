{
 "cells": [
  {
   "cell_type": "code",
   "execution_count": 2,
   "id": "41462762-5af1-4511-9eb7-3d32ab56ecbb",
   "metadata": {
    "tags": []
   },
   "outputs": [
    {
     "name": "stderr",
     "output_type": "stream",
     "text": [
      "/ihme/homes/nhashmeh/miniconda3/envs/earth-analytics-python/lib/python3.8/site-packages/pyproj/__init__.py:89: UserWarning: pyproj unable to set database path.\n",
      "  _pyproj_global_context_initialize()\n"
     ]
    }
   ],
   "source": [
    "import rasterio as reo\n",
    "from rasterio.enums import Resampling\n",
    "# from osgeo import gdal\n"
   ]
  },
  {
   "cell_type": "markdown",
   "id": "b19d904d",
   "metadata": {},
   "source": [
    "- LCZ: Local Climate Zones that basically represent a categorical spectrum of urban development (and lack thereof). This dataset is originally at 100m. Source: https://lcz-generator.rub.de/global-lcz-map"
   ]
  },
  {
   "cell_type": "code",
   "execution_count": null,
   "id": "d2557752",
   "metadata": {},
   "outputs": [],
   "source": [
    "# Paths\n",
    "lcz_location = '/mnt/share/erf/ERA5/merged_era5_with_stations/LCZ_data/'\n",
    "lcz_raster = lcz_location + 'lcz_filter_v2.tif'"
   ]
  },
  {
   "cell_type": "markdown",
   "id": "629846df-e9e6-41a6-9709-912d8f091c90",
   "metadata": {},
   "source": [
    "# resampling LCZ to 1km"
   ]
  },
  {
   "cell_type": "code",
   "execution_count": 3,
   "id": "ae1f607a-a066-4271-b4e4-d347878df9da",
   "metadata": {
    "tags": []
   },
   "outputs": [
    {
     "name": "stdout",
     "output_type": "stream",
     "text": [
      "Shape before resample: (155995, 389620)\n",
      "Shape after resample: (15599, 38962)\n",
      "Transform before resample:\n",
      " | 0.00, 0.00,-170.00|\n",
      "| 0.00,-0.00, 80.04|\n",
      "| 0.00, 0.00, 1.00| \n",
      "\n",
      "Transform after resample:\n",
      " | 0.01, 0.00,-170.00|\n",
      "| 0.00,-0.01, 80.04|\n",
      "| 0.00, 0.00, 1.00|\n",
      "(15599, 38962)\n"
     ]
    },
    {
     "name": "stderr",
     "output_type": "stream",
     "text": [
      "ERROR 1: PROJ: proj_create_from_name: /ihme/homes/nhashmeh/miniconda3/share/proj/proj.db lacks DATABASE.LAYOUT.VERSION.MAJOR / DATABASE.LAYOUT.VERSION.MINOR metadata. It comes from another PROJ installation.\n"
     ]
    }
   ],
   "source": [
    "# load in data to get shape\n",
    "og_data = reo.open(lcz_raster)\n",
    "\n",
    "# factor for rescaling (100m -> 1000m)\n",
    "downscale_factor = 1/10\n",
    "\n",
    "with reo.open(lcz_raster, crs='EPSG:4326') as dataset:\n",
    "\n",
    "    # resample data to target shape\n",
    "    data = dataset.read(\n",
    "        out_shape=(\n",
    "            dataset.count,\n",
    "            int(dataset.height * downscale_factor), # multiply height by downscale factor\n",
    "            int(dataset.width * downscale_factor) # multiply widrh by downscale factor\n",
    "        ),\n",
    "        resampling=Resampling.mode # resampling method\n",
    "    )\n",
    "\n",
    "    # scale image transform\n",
    "    new = dataset.transform * dataset.transform.scale(\n",
    "        (dataset.width / data.shape[-1]),\n",
    "        (dataset.height / data.shape[-2])\n",
    "    )\n",
    "\n",
    "print('Shape before resample:', og_data.shape)\n",
    "print('Shape after resample:', data.shape[1:])\n",
    "print('Transform before resample:\\n', dataset.transform, '\\n')\n",
    "print('Transform after resample:\\n', new)\n",
    "\n",
    "new_dataset = reo.open(\n",
    "    lcz_location + 'lcz_resampled_mode.tif',\n",
    "    'w',\n",
    "    driver='GTiff',\n",
    "    height=data.shape[1],\n",
    "    width=data.shape[2],\n",
    "    count=1,\n",
    "    dtype=data.dtype,\n",
    "    crs=dataset.crs,\n",
    "    # crs='EPSG:4326',\n",
    "    # crs=CRS.from_user_input('EPSG:4326'),\n",
    "    transform=new,\n",
    ")\n",
    "\n",
    "print(new_dataset.shape)\n",
    "\n",
    "new_dataset.write(data)\n",
    "new_dataset.close()"
   ]
  },
  {
   "cell_type": "code",
   "execution_count": null,
   "id": "bdfda352-135d-48cf-b9a6-e460cda59b0e",
   "metadata": {},
   "outputs": [],
   "source": []
  }
 ],
 "metadata": {
  "kernelspec": {
   "display_name": "earth-analytics-python",
   "language": "python",
   "name": "earth-analytics-python"
  },
  "language_info": {
   "codemirror_mode": {
    "name": "ipython",
    "version": 3
   },
   "file_extension": ".py",
   "mimetype": "text/x-python",
   "name": "python",
   "nbconvert_exporter": "python",
   "pygments_lexer": "ipython3",
   "version": "3.8.17"
  }
 },
 "nbformat": 4,
 "nbformat_minor": 5
}
