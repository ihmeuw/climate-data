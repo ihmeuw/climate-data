{
 "cells": [
  {
   "cell_type": "code",
   "execution_count": 1,
   "id": "22488016-510e-4674-ba97-9076c1ad3031",
   "metadata": {
    "tags": []
   },
   "outputs": [],
   "source": [
    "from scipy.io import netcdf_file\n",
    "import numpy as np\n",
    "import zipfile\n",
    "import subprocess\n",
    "import xarray as xr\n",
    "import os\n",
    "import rasterio"
   ]
  },
  {
   "cell_type": "code",
   "execution_count": 2,
   "id": "d3652fc6-3a6a-4a86-915e-f66a00d686a7",
   "metadata": {
    "tags": []
   },
   "outputs": [],
   "source": [
    "# Variables\n",
    "\n",
    "filename = 'data.nc'\n",
    "path_to_files = '/mnt/share/erf/ERA5/three_hourly_temp_9km/downloaded_unzipped/'\n",
    "output_path = '/mnt/share/erf/ERA5/three_hourly_temp_9km/daily_temps/'"
   ]
  },
  {
   "cell_type": "code",
   "execution_count": 28,
   "id": "e48a75c9-ff1e-4774-8236-d916ab64280d",
   "metadata": {
    "tags": []
   },
   "outputs": [
    {
     "name": "stdout",
     "output_type": "stream",
     "text": [
      "Calculating daily averages from hourly data for 2011_era5_temp\n",
      "Saving new daily averages as 2011_era5_temp_daily.nc\n",
      "Calculating daily averages from hourly data for 2021_era5_temp\n",
      "Saving new daily averages as 2021_era5_temp_daily.nc\n",
      "Calculating daily averages from hourly data for 2002_era5_temp\n",
      "Saving new daily averages as 2002_era5_temp_daily.nc\n",
      "Calculating daily averages from hourly data for 2009_era5_temp\n",
      "Saving new daily averages as 2009_era5_temp_daily.nc\n",
      "Calculating daily averages from hourly data for 2007_era5_temp\n",
      "Saving new daily averages as 2007_era5_temp_daily.nc\n",
      "Calculating daily averages from hourly data for 2023_era5_temp\n",
      "Saving new daily averages as 2023_era5_temp_daily.nc\n",
      "Calculating daily averages from hourly data for 2003_era5_temp\n",
      "Saving new daily averages as 2003_era5_temp_daily.nc\n",
      "Calculating daily averages from hourly data for 2001_era5_temp\n",
      "Saving new daily averages as 2001_era5_temp_daily.nc\n",
      "Calculating daily averages from hourly data for 2005_era5_temp\n",
      "Saving new daily averages as 2005_era5_temp_daily.nc\n",
      "Calculating daily averages from hourly data for 1992_era5_temp\n",
      "Saving new daily averages as 1992_era5_temp_daily.nc\n",
      "Calculating daily averages from hourly data for 2018_era5_temp\n",
      "Saving new daily averages as 2018_era5_temp_daily.nc\n",
      "Calculating daily averages from hourly data for 1993_era5_temp\n",
      "Saving new daily averages as 1993_era5_temp_daily.nc\n",
      "Calculating daily averages from hourly data for 2010_era5_temp\n",
      "Saving new daily averages as 2010_era5_temp_daily.nc\n",
      "Calculating daily averages from hourly data for 1996_era5_temp\n",
      "Saving new daily averages as 1996_era5_temp_daily.nc\n",
      "Calculating daily averages from hourly data for 2019_era5_temp\n",
      "Saving new daily averages as 2019_era5_temp_daily.nc\n",
      "Calculating daily averages from hourly data for 2008_era5_temp\n",
      "Saving new daily averages as 2008_era5_temp_daily.nc\n",
      "Calculating daily averages from hourly data for 1999_era5_temp\n",
      "Saving new daily averages as 1999_era5_temp_daily.nc\n",
      "Calculating daily averages from hourly data for 2014_era5_temp\n",
      "Saving new daily averages as 2014_era5_temp_daily.nc\n",
      "Calculating daily averages from hourly data for 2006_era5_temp\n",
      "Saving new daily averages as 2006_era5_temp_daily.nc\n",
      "Calculating daily averages from hourly data for 2004_era5_temp\n",
      "Saving new daily averages as 2004_era5_temp_daily.nc\n",
      "Calculating daily averages from hourly data for 2016_era5_temp\n",
      "Saving new daily averages as 2016_era5_temp_daily.nc\n",
      "Calculating daily averages from hourly data for 1994_era5_temp\n",
      "Saving new daily averages as 1994_era5_temp_daily.nc\n",
      "Calculating daily averages from hourly data for 1995_era5_temp\n",
      "Saving new daily averages as 1995_era5_temp_daily.nc\n",
      "Calculating daily averages from hourly data for 2000_era5_temp\n",
      "Saving new daily averages as 2000_era5_temp_daily.nc\n",
      "Calculating daily averages from hourly data for 1991_era5_temp\n",
      "Saving new daily averages as 1991_era5_temp_daily.nc\n",
      "Calculating daily averages from hourly data for 2012_era5_temp\n",
      "Saving new daily averages as 2012_era5_temp_daily.nc\n",
      "Calculating daily averages from hourly data for 1997_era5_temp\n",
      "Saving new daily averages as 1997_era5_temp_daily.nc\n",
      "Calculating daily averages from hourly data for 2013_era5_temp\n",
      "Saving new daily averages as 2013_era5_temp_daily.nc\n",
      "Calculating daily averages from hourly data for 2015_era5_temp\n",
      "Saving new daily averages as 2015_era5_temp_daily.nc\n",
      "Calculating daily averages from hourly data for 1998_era5_temp\n",
      "Saving new daily averages as 1998_era5_temp_daily.nc\n",
      "Calculating daily averages from hourly data for 2020_era5_temp\n",
      "Saving new daily averages as 2020_era5_temp_daily.nc\n",
      "Calculating daily averages from hourly data for 2017_era5_temp\n",
      "Saving new daily averages as 2017_era5_temp_daily.nc\n",
      "Calculating daily averages from hourly data for 2022_era5_temp\n",
      "Saving new daily averages as 2022_era5_temp_daily.nc\n"
     ]
    }
   ],
   "source": [
    "for file in os.listdir(path_to_files):\n",
    "    get_name = file.split(\".\")[0]\n",
    "    new_filename = get_name + \"_daily.nc\"\n",
    "    data = xr.open_dataset(path_to_files + file) # loads in data\n",
    "    print(\"Calculating daily averages from hourly data for \" + get_name)\n",
    "    daily_data = data.resample(time='D').mean() # calculates daily averages\n",
    "    print(\"Saving new daily averages as \" + new_filename)\n",
    "    daily_data.to_netcdf(output_path + new_filename)"
   ]
  },
  {
   "cell_type": "code",
   "execution_count": 3,
   "id": "2390768b-5ebb-4b7d-b368-96f2eb4b10d7",
   "metadata": {
    "tags": []
   },
   "outputs": [
    {
     "data": {
      "text/plain": [
       "'1990_era5_temp.nc'"
      ]
     },
     "execution_count": 3,
     "metadata": {},
     "output_type": "execute_result"
    }
   ],
   "source": [
    "file = '1990_era5_temp.nc'\n",
    "file"
   ]
  },
  {
   "cell_type": "code",
   "execution_count": 4,
   "id": "915e8936-5f7b-482f-b21c-517d56bd877b",
   "metadata": {
    "tags": []
   },
   "outputs": [
    {
     "name": "stderr",
     "output_type": "stream",
     "text": [
      "/ihme/homes/nhashmeh/miniconda3/envs/earth-analytics-python/lib/python3.8/site-packages/pyproj/__init__.py:89: UserWarning: pyproj unable to set database path.\n",
      "  _pyproj_global_context_initialize()\n"
     ]
    },
    {
     "name": "stdout",
     "output_type": "stream",
     "text": [
      "Calculating daily averages from hourly data for 1990_era5_temp\n",
      "Saving new daily averages as 1990_era5_temp_daily.nc\n"
     ]
    }
   ],
   "source": [
    "get_name = file.split(\".\")[0]\n",
    "new_filename = get_name + \"_daily.nc\"\n",
    "data = xr.open_dataset(path_to_files + file) # loads in data\n",
    "print(\"Calculating daily averages from hourly data for \" + get_name)\n",
    "daily_data = data.resample(time='D').mean() # calculates daily averages\n",
    "print(\"Saving new daily averages as \" + new_filename)\n",
    "daily_data.to_netcdf(output_path + new_filename)"
   ]
  },
  {
   "cell_type": "code",
   "execution_count": null,
   "id": "b7b629b7-906f-46c6-8691-1d18ac336513",
   "metadata": {},
   "outputs": [],
   "source": []
  }
 ],
 "metadata": {
  "kernelspec": {
   "display_name": "earth-analytics-python",
   "language": "python",
   "name": "earth-analytics-python"
  },
  "language_info": {
   "codemirror_mode": {
    "name": "ipython",
    "version": 3
   },
   "file_extension": ".py",
   "mimetype": "text/x-python",
   "name": "python",
   "nbconvert_exporter": "python",
   "pygments_lexer": "ipython3",
   "version": "3.8.17"
  }
 },
 "nbformat": 4,
 "nbformat_minor": 5
}
