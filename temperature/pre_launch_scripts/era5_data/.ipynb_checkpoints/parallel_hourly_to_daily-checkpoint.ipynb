{
 "cells": [
  {
   "cell_type": "code",
   "execution_count": 1,
   "id": "3d93f417-607a-4dcd-9c78-0591a7dfb96a",
   "metadata": {
    "tags": []
   },
   "outputs": [
    {
     "name": "stderr",
     "output_type": "stream",
     "text": [
      "/ihme/homes/nhashmeh/miniconda3/envs/earth-analytics-python/lib/python3.8/site-packages/pyproj/__init__.py:89: UserWarning: pyproj unable to set database path.\n",
      "  _pyproj_global_context_initialize()\n"
     ]
    }
   ],
   "source": [
    "import numpy as np\n",
    "import pandas as pd\n",
    "import rasterio as reo\n",
    "from rasterio.enums import Resampling\n",
    "from rasterio.crs import CRS\n",
    "import sklearn\n",
    "import geopandas\n",
    "import matplotlib.pyplot as plt\n",
    "import rioxarray\n",
    "import re\n",
    "import os\n",
    "import xarray as xr\n",
    "import datetime as dt\n",
    "from datetime import datetime\n",
    "import argparse\n",
    "import getpass\n",
    "import subprocess"
   ]
  },
  {
   "cell_type": "code",
   "execution_count": 2,
   "id": "602f563c-666e-4178-bdd4-d11adbf96c76",
   "metadata": {
    "tags": []
   },
   "outputs": [],
   "source": [
    "path_to_files = '/mnt/share/erf/ERA5/era5_precip/downloaded_unzipped/'"
   ]
  },
  {
   "cell_type": "code",
   "execution_count": 4,
   "id": "385177aa-e2b5-42fa-8cfd-52acc2799f34",
   "metadata": {
    "tags": []
   },
   "outputs": [
    {
     "name": "stdout",
     "output_type": "stream",
     "text": [
      "Submitted batch job 33596891\n",
      "Submitted batch job 33596892\n",
      "Submitted batch job 33596893\n",
      "Submitted batch job 33596894\n",
      "Submitted batch job 33596895\n",
      "Submitted batch job 33596896\n",
      "Submitted batch job 33596897\n",
      "Submitted batch job 33596898\n",
      "Submitted batch job 33596899\n",
      "Submitted batch job 33596900\n",
      "Submitted batch job 33596901\n",
      "Submitted batch job 33596902\n",
      "Submitted batch job 33596903\n",
      "Submitted batch job 33596904\n",
      "Submitted batch job 33596905\n",
      "Submitted batch job 33596906\n",
      "Submitted batch job 33596907\n",
      "Submitted batch job 33596908\n",
      "Submitted batch job 33596909\n",
      "Submitted batch job 33596910\n",
      "Submitted batch job 33596911\n",
      "Submitted batch job 33596912\n",
      "Submitted batch job 33596913\n",
      "Submitted batch job 33596914\n",
      "Submitted batch job 33596915\n",
      "Submitted batch job 33596916\n",
      "Submitted batch job 33596917\n",
      "Submitted batch job 33596918\n",
      "Submitted batch job 33596919\n",
      "Submitted batch job 33596920\n",
      "Submitted batch job 33596921\n",
      "Submitted batch job 33596922\n",
      "Submitted batch job 33596923\n",
      "Submitted batch job 33596924\n"
     ]
    }
   ],
   "source": [
    "for file in os.listdir(path_to_files):\n",
    "\n",
    "    year = file.split('.')[0] # get year\n",
    "\n",
    "    asdf = ['sbatch', '-J', '{}'.format(year), '-e', '/share/temp/sgeoutput/{}/errors/%x.e%j'.format(getpass.getuser()),\n",
    "        '-o', '/share/temp/sgeoutput/{}/output/%x.o%j'.format(getpass.getuser()), '-A', 'proj_erf',\n",
    "        '--mem=750G', '-c', '5', '-t', '240', '-C', 'archive', '-p', 'all.q', #'--wait',\n",
    "        '--wrap', '/ihme/homes/nhashmeh/miniconda3/envs/earth-analytics-python/bin/python ' + '/ihme/homes/nhashmeh/downscale_temperature/era5_data/era5_data_hourly_to_daily.py ' + file]\n",
    "    subprocess.call(asdf)\n",
    "    # print(asdf)"
   ]
  },
  {
   "cell_type": "code",
   "execution_count": null,
   "id": "061ee27e-763f-4422-b3d0-e727b2df6132",
   "metadata": {},
   "outputs": [],
   "source": []
  }
 ],
 "metadata": {
  "kernelspec": {
   "display_name": "earth-analytics-python",
   "language": "python",
   "name": "earth-analytics-python"
  },
  "language_info": {
   "codemirror_mode": {
    "name": "ipython",
    "version": 3
   },
   "file_extension": ".py",
   "mimetype": "text/x-python",
   "name": "python",
   "nbconvert_exporter": "python",
   "pygments_lexer": "ipython3",
   "version": "3.8.17"
  }
 },
 "nbformat": 4,
 "nbformat_minor": 5
}
