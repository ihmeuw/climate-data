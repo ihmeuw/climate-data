{
 "cells": [
  {
   "cell_type": "code",
   "execution_count": 2,
   "id": "997ad894-a7f1-439b-9688-d3844f620ce9",
   "metadata": {
    "tags": []
   },
   "outputs": [],
   "source": [
    "import numpy as np\n",
    "import subprocess\n",
    "import zipfile\n",
    "import os\n",
    "import os\n",
    "import getpass\n",
    "import subprocess"
   ]
  },
  {
   "cell_type": "markdown",
   "id": "e3c11122-3df1-4c3f-b040-2144362ddc50",
   "metadata": {
    "tags": []
   },
   "source": [
    "# Download data by year"
   ]
  },
  {
   "cell_type": "code",
   "execution_count": 6,
   "id": "091efbc9-83c7-49f3-9a2b-f9bf576a7b04",
   "metadata": {
    "tags": []
   },
   "outputs": [
    {
     "name": "stdout",
     "output_type": "stream",
     "text": [
      "Requesting download for year: 1990.0\n",
      "['sbatch', '-J', '1990_era5_dl', '-e', '/share/temp/sgeoutput/nhashmeh/errors/%x.e%j', '-o', '/share/temp/sgeoutput/nhashmeh/output/%x.o%j', '-A', 'proj_erf', '--mem=20G', '-c', '1', '-t', '24:00:00', '-p', 'all.q', '--wrap', '/ihme/homes/nhashmeh/miniconda3/envs/earth-analytics-python/bin/python /ihme/homes/nhashmeh/downscale_temperature/era5_data/cdsapi_run.py 1990']\n",
      "Submitted batch job 29961414\n"
     ]
    }
   ],
   "source": [
    "years = np.linspace(1991,2023,33)\n",
    "\n",
    "for i in years:\n",
    "    req_test = ['sbatch',\n",
    "         '-J',\n",
    "         '{}_era5_dl'.format(str(int(i))),\n",
    "         '-e',\n",
    "         '/share/temp/sgeoutput/nhashmeh/errors/%x.e%j',\n",
    "         '-o',\n",
    "         '/share/temp/sgeoutput/nhashmeh/output/%x.o%j',\n",
    "         '-A',\n",
    "         'proj_erf',\n",
    "         '--mem=20G', '-c', '1', '-t', '24:00:00', '-p', 'all.q', '--wrap',\n",
    "        '/ihme/homes/nhashmeh/miniconda3/envs/earth-analytics-python/bin/python /mnt/share/code/nhashmeh/downscaling/temperature/era5_data/cdsapi_run.py ' + str(int(i))]\n",
    "    print(\"Requesting download for year: \" + str(i))\n",
    "    print(req_test)\n",
    "    subprocess.call(req_test)"
   ]
  },
  {
   "cell_type": "markdown",
   "id": "ef2bd55c",
   "metadata": {},
   "source": [
    "# Unzip"
   ]
  },
  {
   "cell_type": "code",
   "execution_count": null,
   "id": "4fac6910",
   "metadata": {},
   "outputs": [],
   "source": [
    "path_to_zip_file = '/mnt/share/erf/ERA5/three_hourly_temp_9km/'\n",
    "\n",
    "for file in os.listdir(path_to_zip_file):\n",
    "    if file.endswith('.zip'):\n",
    "        print(file)\n",
    "        with zipfile.ZipFile(path_to_zip_file + file, 'r') as zip_ref:\n",
    "            print(file.split(\"_\")[0])\n",
    "            zip_ref.getinfo('data.nc').filename = str(file.split(\"_\")[0]) + '_era5_temp.nc'\n",
    "            print(zip_ref.getinfo('data.nc').filename)\n",
    "            zip_ref.extract('data.nc', path = path_to_zip_file + 'downloaded_unzipped/')\n",
    "    else:\n",
    "        pass"
   ]
  },
  {
   "cell_type": "markdown",
   "id": "cea04c62",
   "metadata": {},
   "source": [
    "# Hourly to daily"
   ]
  },
  {
   "cell_type": "code",
   "execution_count": null,
   "id": "36152160",
   "metadata": {},
   "outputs": [],
   "source": [
    "path_to_files = '/mnt/share/erf/ERA5/three_hourly_temp_9km/downloaded_unzipped/'\n",
    "\n",
    "for file in os.listdir(path_to_files):\n",
    "\n",
    "    year = file.split('.')[0] # get year\n",
    "\n",
    "    asdf = ['sbatch', '-J', '{}'.format(year), '-e', '/share/temp/sgeoutput/{}/errors/%x.e%j'.format(getpass.getuser()),\n",
    "        '-o', '/share/temp/sgeoutput/{}/output/%x.o%j'.format(getpass.getuser()), '-A', 'proj_diet',\n",
    "        '--mem=500G', '-c', '5', '-t', '240', '-C', 'archive', '-p', 'all.q', #'--wait',\n",
    "        '--wrap', '/ihme/homes/nhashmeh/miniconda3/envs/earth-analytics-python/bin/python ' + '/mnt/share/code/nhashmeh/downscaling/temperature/era5_data/era5_data_hourly_to_daily.py ' + file]\n",
    "    subprocess.call(asdf)\n",
    "    # print(asdf)"
   ]
  }
 ],
 "metadata": {
  "kernelspec": {
   "display_name": "earth-analytics-python",
   "language": "python",
   "name": "earth-analytics-python"
  },
  "language_info": {
   "codemirror_mode": {
    "name": "ipython",
    "version": 3
   },
   "file_extension": ".py",
   "mimetype": "text/x-python",
   "name": "python",
   "nbconvert_exporter": "python",
   "pygments_lexer": "ipython3",
   "version": "3.8.17"
  }
 },
 "nbformat": 4,
 "nbformat_minor": 5
}
